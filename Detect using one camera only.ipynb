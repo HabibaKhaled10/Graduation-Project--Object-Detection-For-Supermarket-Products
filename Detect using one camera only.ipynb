{
 "cells": [
  {
   "cell_type": "code",
   "execution_count": 1,
   "id": "f64c7a7a",
   "metadata": {},
   "outputs": [],
   "source": [
    "import cv2\n",
    "import numpy as np\n",
    "import matplotlib.pyplot as plt"
   ]
  },
  {
   "cell_type": "code",
   "execution_count": 2,
   "id": "c65c0868",
   "metadata": {},
   "outputs": [],
   "source": [
    "net=cv2.dnn.readNetFromDarknet(\"yolov3_custom.cfg\",\"yolov3_custom_10000.weights\")"
   ]
  },
  {
   "cell_type": "code",
   "execution_count": 3,
   "id": "c3451e04",
   "metadata": {},
   "outputs": [],
   "source": [
    "classes=['Arla sour cream','Arla ecological sour cream','Arla sour milk','Alpro blueberry soyghurt','Alpro vanilla soyghurt',\n",
    "         'Alpro fresh soymilk','Arla mild vanilla yoghurt','Arla natural mild low fat yoghurt','Arla natural yoghurt',\n",
    "         'Valio vanilla yoghurt','Yoggi strawberry yoghurt','Yoggi vanilla yoghurt','Bravo-Apple-Juice','Bravo-Orange-Juice',\n",
    "         'God-Morgon-Apple-Juice','God-Morgon-Orange-Juice','God-Morgon-Orange-Red-Grapefruit-Juice','God-Morgon-Red-Grapefruit-Juice',\n",
    "         'Tropicana-Apple-Juice','Tropicana-Golden-Grapefruit','Tropicana-Juice-Smooth','Tropicana-Mandarin-Morning',\n",
    "         'Arla-Ecological-Medium-Fat-Milk','Arla-Lactose-Medium-Fat-Milk','Arla-Medium-Fat-Milk','Arla-Standard-Milk',\n",
    "         'Garant-Ecological-Medium-Fat-Milk','Garant-Ecological-Standard-Milk','Oatly-Oat-Milk','Oatly-Natural-Oatghurt',\n",
    "         'Red-Kideny-Beans','White-Beans','Green-Beans','Cake','Muffin','Water','Cocacola','Pepsi']"
   ]
  },
  {
   "cell_type": "code",
   "execution_count": 4,
   "id": "db1c6c7c",
   "metadata": {},
   "outputs": [
    {
     "data": {
      "text/plain": [
       "array([200, 227, 254])"
      ]
     },
     "execution_count": 4,
     "metadata": {},
     "output_type": "execute_result"
    }
   ],
   "source": [
    "net.getUnconnectedOutLayers()\n",
    "#array([[200], [227], [254]])"
   ]
  },
  {
   "cell_type": "code",
   "execution_count": 5,
   "id": "870b1ff4",
   "metadata": {},
   "outputs": [
    {
     "data": {
      "text/plain": [
       "['yolo_82', 'yolo_94', 'yolo_106']"
      ]
     },
     "execution_count": 5,
     "metadata": {},
     "output_type": "execute_result"
    }
   ],
   "source": [
    "layer_names = net.getLayerNames()\n",
    "layer_names=list(layer_names)\n",
    "outputlayers = [layer_names[i[0] - 1] for i in ([[200], [227], [254]])]\n",
    "outputlayers\n",
    "#layer_names"
   ]
  },
  {
   "cell_type": "code",
   "execution_count": 6,
   "id": "d32e8891",
   "metadata": {},
   "outputs": [],
   "source": [
    "colors= np.random.uniform(0,255,size=(len(classes),3))"
   ]
  },
  {
   "cell_type": "markdown",
   "id": "ef501801",
   "metadata": {},
   "source": [
    "## Generate a method to detect videos"
   ]
  },
  {
   "cell_type": "code",
   "execution_count": 7,
   "id": "272f243c",
   "metadata": {},
   "outputs": [],
   "source": [
    "import time\n",
    "def detect_videos():\n",
    "    #cap=cv2.VideoCapture(video_path)\n",
    "    #For Webcam\n",
    "    cap = cv2.VideoCapture(0)\n",
    "    font = cv2.FONT_HERSHEY_PLAIN\n",
    "    starting_time= time.time()\n",
    "    frame_id = 0\n",
    "    \n",
    "    while True:\n",
    "        ret,frame= cap.read()\n",
    "        frame_id+=1\n",
    "        height,width,channels = frame.shape\n",
    "        #Detecting objects\n",
    "        blob = cv2.dnn.blobFromImage(frame,0.00392,(320,320),(0,0,0),True,crop=False) #reduce 416 to 320 \n",
    "        net.setInput(blob)\n",
    "        outs = net.forward(outputlayers)\n",
    "        #print(outs[1])\n",
    "        \n",
    "        #Showing info on screen/ get confidence score of algorithm in detecting an object in blob\n",
    "        class_ids=[]\n",
    "        confidences=[]\n",
    "        boxes=[]\n",
    "        for out in outs:\n",
    "            for detection in out:\n",
    "                scores = detection[5:]\n",
    "                class_id = np.argmax(scores)\n",
    "                confidence = scores[class_id]\n",
    "                \n",
    "                if confidence > 0.3:\n",
    "                    #onject detected\n",
    "                    center_x= int(detection[0]*width)\n",
    "                    center_y= int(detection[1]*height)\n",
    "                    w = int(detection[2]*width)\n",
    "                    h = int(detection[3]*height)\n",
    "                    \n",
    "                    #cv2.circle(img,(center_x,center_y),10,(0,255,0),2)\n",
    "                    #rectangle co-ordinaters\n",
    "                    x=int(center_x - w/2)\n",
    "                    y=int(center_y - h/2)\n",
    "                    #cv2.rectangle(img,(x,y),(x+w,y+h),(0,255,0),2)\n",
    "\n",
    "                    boxes.append([x,y,w,h]) #put all rectangle areas\n",
    "                    confidences.append(float(confidence)) #how confidence was that object detected and show that percentage\n",
    "                    class_ids.append(class_id) #name of the object tha was detected\n",
    "            \n",
    "        indexes = cv2.dnn.NMSBoxes(boxes,confidences,0.4,0.6)\n",
    "        \n",
    "        for i in range(len(boxes)):\n",
    "            if i in indexes:\n",
    "                x,y,w,h = boxes[i]\n",
    "                label = str(classes[class_ids[i]])\n",
    "                confidence= confidences[i]\n",
    "                #color = colors[class_ids[i]]\n",
    "                color = (0,0,255)\n",
    "                cv2.rectangle(frame,(x,y),(x+w,y+h),color,2)\n",
    "                cv2.putText(frame,label+\" \"+str(round(confidence,2)),(x,y+30),font,1,(255,255,255),2)\n",
    "            \n",
    "        elapsed_time = time.time() - starting_time\n",
    "        fps=frame_id/elapsed_time\n",
    "        cv2.putText(frame,\"FPS:\"+str(round(fps,2)),(10,50),font,2,(0,0,255),1)\n",
    "    \n",
    "        cv2.imshow(\"Image\",frame)\n",
    "        key = cv2.waitKey(1) #wait 1ms the loop will start again and we will process the next frame\n",
    "    \n",
    "        if key == 27: #esc key stops the process\n",
    "            break;        \n",
    "    cap.release()    \n",
    "    cv2.destroyAllWindows() \n",
    "    return class_ids"
   ]
  },
  {
   "cell_type": "code",
   "execution_count": 8,
   "id": "3ddd4ad5",
   "metadata": {},
   "outputs": [
    {
     "data": {
      "text/plain": [
       "[]"
      ]
     },
     "execution_count": 8,
     "metadata": {},
     "output_type": "execute_result"
    }
   ],
   "source": [
    "detect_videos()"
   ]
  }
 ],
 "metadata": {
  "kernelspec": {
   "display_name": "Python 3 (ipykernel)",
   "language": "python",
   "name": "python3"
  },
  "language_info": {
   "codemirror_mode": {
    "name": "ipython",
    "version": 3
   },
   "file_extension": ".py",
   "mimetype": "text/x-python",
   "name": "python",
   "nbconvert_exporter": "python",
   "pygments_lexer": "ipython3",
   "version": "3.9.13"
  }
 },
 "nbformat": 4,
 "nbformat_minor": 5
}
