{
 "cells": [
  {
   "cell_type": "code",
   "execution_count": 1,
   "id": "489a4b74",
   "metadata": {},
   "outputs": [],
   "source": [
    "import cv2\n",
    "import numpy as np\n",
    "import matplotlib.pyplot as plt"
   ]
  },
  {
   "cell_type": "code",
   "execution_count": 2,
   "id": "63e90813",
   "metadata": {},
   "outputs": [],
   "source": [
    "net=cv2.dnn.readNetFromDarknet(\"yolov3-tiny_custom.cfg\",\"yolov3-tiny_custom_40000.weights\")"
   ]
  },
  {
   "cell_type": "code",
   "execution_count": 3,
   "id": "05608cfe",
   "metadata": {},
   "outputs": [],
   "source": [
    "classes=['Arla sour cream','Arla ecological sour cream','Arla sour milk','Alpro blueberry soyghurt','Alpro vanilla soyghurt',\n",
    "         'Alpro fresh soymilk','Arla mild vanilla yoghurt','Arla natural mild low fat yoghurt','Arla natural yoghurt',\n",
    "         'Valio vanilla yoghurt','Yoggi strawberry yoghurt','Yoggi vanilla yoghurt','Bravo-Apple-Juice','Bravo-Orange-Juice',\n",
    "         'God-Morgon-Apple-Juice','God-Morgon-Orange-Juice','God-Morgon-Orange-Red-Grapefruit-Juice','God-Morgon-Red-Grapefruit-Juice',\n",
    "         'Tropicana-Apple-Juice','Tropicana-Golden-Grapefruit','Tropicana-Juice-Smooth','Tropicana-Mandarin-Morning',\n",
    "         'Arla-Ecological-Medium-Fat-Milk','Arla-Lactose-Medium-Fat-Milk','Arla-Medium-Fat-Milk','Arla-Standard-Milk',\n",
    "         'Garant-Ecological-Medium-Fat-Milk','Garant-Ecological-Standard-Milk','Oatly-Oat-Milk','Oatly-Natural-Oatghurt',\n",
    "         'Red-Kideny-Beans','White-Beans','Green-Beans','Cake','Muffin','Water','Cocacola','Pepsi']"
   ]
  },
  {
   "cell_type": "code",
   "execution_count": 4,
   "id": "8beb6043",
   "metadata": {},
   "outputs": [
    {
     "data": {
      "text/plain": [
       "array([36, 48])"
      ]
     },
     "execution_count": 4,
     "metadata": {},
     "output_type": "execute_result"
    }
   ],
   "source": [
    "net.getUnconnectedOutLayers()"
   ]
  },
  {
   "cell_type": "code",
   "execution_count": 5,
   "id": "f48caf89",
   "metadata": {},
   "outputs": [
    {
     "data": {
      "text/plain": [
       "['yolo_16', 'yolo_23']"
      ]
     },
     "execution_count": 5,
     "metadata": {},
     "output_type": "execute_result"
    }
   ],
   "source": [
    "layer_names = net.getLayerNames()\n",
    "layer_names=list(layer_names)\n",
    "outputlayers = [layer_names[i[0] - 1] for i in ([[36], [48]])]\n",
    "outputlayers\n",
    "#layer_names"
   ]
  },
  {
   "cell_type": "code",
   "execution_count": 6,
   "id": "2072c8dd",
   "metadata": {},
   "outputs": [],
   "source": [
    "colors= np.random.uniform(0,255,size=(len(classes),3))"
   ]
  },
  {
   "cell_type": "markdown",
   "id": "2e8df98c",
   "metadata": {},
   "source": [
    "## Generate a method to detect videos\n"
   ]
  },
  {
   "cell_type": "code",
   "execution_count": 7,
   "id": "deee4d38",
   "metadata": {},
   "outputs": [],
   "source": [
    "import time\n",
    "def detect_videos():\n",
    "    #For videos\n",
    "    cap=cv2.VideoCapture('pepsi.webm')\n",
    "    #For Webcam\n",
    "    #cap = cv2.VideoCapture(0)\n",
    "    font = cv2.FONT_HERSHEY_PLAIN\n",
    "    starting_time= time.time()\n",
    "    frame_id = 0\n",
    "    \n",
    "    while True:\n",
    "        ret,frame= cap.read()\n",
    "        frame_id+=1\n",
    "        height,width,channels = frame.shape\n",
    "        #Detecting objects\n",
    "        blob = cv2.dnn.blobFromImage(frame,0.00392,(320,320),(0,0,0),True,crop=False) #reduce 416 to 320 \n",
    "        net.setInput(blob)\n",
    "        outs = net.forward(outputlayers)\n",
    "        #print(outs[1])\n",
    "        \n",
    "        #Showing info on screen/ get confidence score of algorithm in detecting an object in blob\n",
    "        class_ids=[]\n",
    "        confidences=[]\n",
    "        boxes=[]\n",
    "        for out in outs:\n",
    "            for detection in out:\n",
    "                scores = detection[5:]\n",
    "                class_id = np.argmax(scores)\n",
    "                confidence = scores[class_id]\n",
    "                \n",
    "                if confidence > 0.7:\n",
    "                    #onject detected\n",
    "                    center_x= int(detection[0]*width)\n",
    "                    center_y= int(detection[1]*height)\n",
    "                    w = int(detection[2]*width)\n",
    "                    h = int(detection[3]*height)\n",
    "                    \n",
    "                    #cv2.circle(img,(center_x,center_y),10,(0,255,0),2)\n",
    "                    #rectangle co-ordinaters\n",
    "                    x=int(center_x - w/2)\n",
    "                    y=int(center_y - h/2)\n",
    "                    #cv2.rectangle(img,(x,y),(x+w,y+h),(0,255,0),2)\n",
    "\n",
    "                    boxes.append([x,y,w,h]) #put all rectangle areas\n",
    "                    confidences.append(float(confidence)) #how confidence was that object detected and show that percentage\n",
    "                    class_ids.append(class_id) #name of the object tha was detected\n",
    "\n",
    "        pairs = []\n",
    "        for value1, value2 in zip(class_ids, confidences):\n",
    "            result =[value1,value2]\n",
    "            pairs.append(result)\n",
    "            #print(\"Class ID corresponding to its confidence score:\\n\", pairs)\n",
    "            \n",
    "        max_value = float('-inf')  # Initialize max_value with negative infinity\n",
    "        max_pair = None\n",
    "\n",
    "        for pair in pairs:\n",
    "            second_number = pair[1]\n",
    "            if second_number > max_value:\n",
    "                max_value = second_number\n",
    "                max_pair = pair\n",
    "                #print(\"Pair with the maximum confidence score:\", max_pair)\n",
    "                \n",
    "        result = max_pair\n",
    "        # Open a file in write mode\n",
    "        file = open('Detection.txt', \"w\")\n",
    "        # Convert each item to a string and write it to the file\n",
    "        #for item in pair:\n",
    "        #item=convert_id_to_name(max_pair[0])\n",
    "        #confidence_score=result[1]\n",
    "        file.write(str(result))\n",
    "        # Close the file    \n",
    "        file.close()\n",
    "        \n",
    "        indexes = cv2.dnn.NMSBoxes(boxes,confidences,0.4,0.6)\n",
    "        \n",
    "        for i in range(len(boxes)):\n",
    "            if i in indexes:\n",
    "                x,y,w,h = boxes[i]\n",
    "                label = str(classes[class_ids[i]])\n",
    "                confidence= confidences[i]\n",
    "                #color = colors[class_ids[i]]\n",
    "                color = (0,0,255)\n",
    "                cv2.rectangle(frame,(x,y),(x+w,y+h),color,2)\n",
    "                cv2.putText(frame,label+\" \"+str(round(confidence,2)),(x,y+30),font,1,(255,255,255),2)\n",
    "            \n",
    "        elapsed_time = time.time() - starting_time\n",
    "        fps=frame_id/elapsed_time\n",
    "        cv2.putText(frame,\"FPS:\"+str(round(fps,2)),(10,50),font,2,(0,0,255),1)\n",
    "    \n",
    "        cv2.imshow(\"Image\",frame)\n",
    "        key = cv2.waitKey(1) #wait 1ms the loop will start again and we will process the next frame\n",
    "    \n",
    "        if key == 27: #esc key stops the process\n",
    "            break;        \n",
    "    cap.release()    \n",
    "    cv2.destroyAllWindows() \n",
    "    return class_ids,confidences"
   ]
  },
  {
   "cell_type": "code",
   "execution_count": 8,
   "id": "3594adca",
   "metadata": {},
   "outputs": [
    {
     "data": {
      "text/plain": [
       "([37], [0.9613466858863831])"
      ]
     },
     "execution_count": 8,
     "metadata": {},
     "output_type": "execute_result"
    }
   ],
   "source": [
    "detect_videos()"
   ]
  },
  {
   "cell_type": "code",
   "execution_count": null,
   "id": "4ed629aa",
   "metadata": {},
   "outputs": [],
   "source": [
    "def convert_id_to_name(class_id):\n",
    "    if class_id==0:\n",
    "        return 'Arla sour cream'\n",
    "    elif class_id==1:\n",
    "        return 'Arla ecological sour cream'\n",
    "    elif class_id==2:\n",
    "        return 'Arla sour milk'\n",
    "    elif class_id==3:\n",
    "        return 'Alpro blueberry soyghurt'\n",
    "    elif class_id==4:\n",
    "        return 'Alpro vanilla soyghurt'\n",
    "    elif class_id==5:\n",
    "        return 'Alpro fresh soymilk'\n",
    "    elif class_id==6:\n",
    "        return 'Arla mild vanilla yoghurt'\n",
    "    elif class_id==7:\n",
    "        return 'Arla natural mild low fat yoghurt'\n",
    "    elif class_id==8:\n",
    "        return 'Arla natural yoghurt'\n",
    "    elif class_id==9:\n",
    "        return 'Valio vanilla yoghurt'\n",
    "    elif class_id==10:\n",
    "        return 'Yoggi strawberry yoghurt'\n",
    "    elif class_id==11:\n",
    "        return 'Yoggi vanilla yoghurt'\n",
    "    elif class_id==12:\n",
    "        return 'Bravo-Apple-Juice'\n",
    "    elif class_id==13:\n",
    "        return 'Bravo-Orange-Juice'\n",
    "    elif class_id==14:\n",
    "        return 'God-Morgon-Apple-Juice'\n",
    "    elif class_id==15:\n",
    "        return 'God-Morgon-Orange-Juice'\n",
    "    elif class_id==16:\n",
    "        return 'God-Morgon-Orange-Red-Grapefruit-Juice'\n",
    "    elif class_id==17:\n",
    "        return 'God-Morgon-Red-Grapefruit-Juice'\n",
    "    elif class_id==18:\n",
    "        return 'Tropicana-Apple-Juice'\n",
    "    elif class_id==19:\n",
    "        return 'Tropicana-Golden-Grapefruit'\n",
    "    elif class_id==20:\n",
    "        return 'Tropicana-Juice-Smooth'\n",
    "    elif class_id==21:\n",
    "        return 'Tropicana-Mandarin-Morning'\n",
    "    elif class_id==22:\n",
    "        return 'Arla-Ecological-Medium-Fat-Milk'\n",
    "    elif class_id==23:\n",
    "        return 'Arla-Lactose-Medium-Fat-Milk'\n",
    "    elif class_id==24:\n",
    "        return 'Arla-Medium-Fat-Milk'\n",
    "    elif class_id==25:\n",
    "        return 'Arla-Standard-Milk'\n",
    "    elif class_id==26:\n",
    "        return 'Garant-Ecological-Medium-Fat-Milk'\n",
    "    elif class_id==27:\n",
    "        return 'Garant-Ecological-Standard-Milk'\n",
    "    elif class_id==28:\n",
    "        return 'Oatly-Oat-Milk'\n",
    "    elif class_id==29:\n",
    "        return 'Oatly-Natural-Oatghurt'\n",
    "    elif class_id==30:\n",
    "        return 'Red-Kideny-Beans'\n",
    "    elif class_id==31:\n",
    "        return 'White-Beans'\n",
    "    elif class_id==32:\n",
    "        return 'Green-Beans'\n",
    "    elif class_id==33:\n",
    "        return 'Cake'\n",
    "    elif class_id==34:\n",
    "        return 'Muffin'\n",
    "    elif class_id==35:\n",
    "        return 'Water'\n",
    "    elif class_id==36:\n",
    "        return 'Cocacola'\n",
    "    elif class_id==37:\n",
    "        return 'Pepsi'"
   ]
  },
  {
   "cell_type": "code",
   "execution_count": null,
   "id": "3e43fe25",
   "metadata": {},
   "outputs": [],
   "source": [
    "def price(class_id):\n",
    "    if class_id==36:\n",
    "        return '4$'\n",
    "    elif class_id==37:\n",
    "        return '5$'"
   ]
  },
  {
   "cell_type": "markdown",
   "id": "29307437",
   "metadata": {},
   "source": [
    "### Extract the return of the detect_videos function and store them in list1(class id) & list2(confidence score)"
   ]
  },
  {
   "cell_type": "code",
   "execution_count": null,
   "id": "557e6a66",
   "metadata": {},
   "outputs": [],
   "source": [
    "list1,list2=detect_videos()"
   ]
  },
  {
   "cell_type": "markdown",
   "id": "e6c26937",
   "metadata": {},
   "source": [
    "### Print each class id corresponding to its confidence score in a list"
   ]
  },
  {
   "cell_type": "code",
   "execution_count": null,
   "id": "4ca62f59",
   "metadata": {},
   "outputs": [],
   "source": [
    "pairs = []\n",
    "\n",
    "for value1, value2 in zip(list1, list2):\n",
    "    result =[value1,value2]\n",
    "    pairs.append(result)\n",
    "\n",
    "print(\"Class ID corresponding to its confidence score:\\n\", pairs)"
   ]
  },
  {
   "cell_type": "markdown",
   "id": "228ab93b",
   "metadata": {},
   "source": [
    "### Print the object having the maximum confidence score"
   ]
  },
  {
   "cell_type": "code",
   "execution_count": null,
   "id": "9b7a834d",
   "metadata": {},
   "outputs": [],
   "source": [
    "max_value = float('-inf')  # Initialize max_value with negative infinity\n",
    "max_pair = None\n",
    "\n",
    "for pair in pairs:\n",
    "    second_number = pair[1]\n",
    "    if second_number > max_value:\n",
    "        max_value = second_number\n",
    "        max_pair = pair\n",
    "print(\"Pair with the maximum confidence score:\", max_pair)"
   ]
  },
  {
   "cell_type": "markdown",
   "id": "9a20342a",
   "metadata": {},
   "source": [
    "### Save the class name and its confidence score to a textfile"
   ]
  },
  {
   "cell_type": "code",
   "execution_count": null,
   "id": "744b3ca1",
   "metadata": {},
   "outputs": [],
   "source": [
    "def save_to_text(textfile_path):\n",
    "    result = max_pair\n",
    "    # Open a file in write mode\n",
    "    file = open(textfile_path, \"w\")\n",
    "    # Convert each item to a string and write it to the file\n",
    "    #for item in pair:\n",
    "    item=convert_id_to_name(result[0])\n",
    "    confidence_score=result[1]\n",
    "    file.write(str(item) + \"\\t\" + str(price(result[0])))\n",
    "    # Close the file    \n",
    "    file.close()"
   ]
  },
  {
   "cell_type": "code",
   "execution_count": null,
   "id": "5623b633",
   "metadata": {},
   "outputs": [],
   "source": [
    "save_to_text('Detection.txt')"
   ]
  }
 ],
 "metadata": {
  "kernelspec": {
   "display_name": "Python 3 (ipykernel)",
   "language": "python",
   "name": "python3"
  },
  "language_info": {
   "codemirror_mode": {
    "name": "ipython",
    "version": 3
   },
   "file_extension": ".py",
   "mimetype": "text/x-python",
   "name": "python",
   "nbconvert_exporter": "python",
   "pygments_lexer": "ipython3",
   "version": "3.9.13"
  }
 },
 "nbformat": 4,
 "nbformat_minor": 5
}
